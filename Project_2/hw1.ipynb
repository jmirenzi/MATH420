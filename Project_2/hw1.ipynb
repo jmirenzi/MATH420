{
 "cells": [
  {
   "attachments": {},
   "cell_type": "markdown",
   "metadata": {},
   "source": [
    "# MATH 420\n",
    "## Jack Mirenzi - Camilo Velez\n",
    "## Team HW 1"
   ]
  },
  {
   "cell_type": "code",
   "execution_count": 13,
   "metadata": {},
   "outputs": [
    {
     "name": "stderr",
     "output_type": "stream",
     "text": [
      "\u001b[32m\u001b[1m  Activating\u001b[22m\u001b[39m project at `~/MATH420/p2`\n"
     ]
    }
   ],
   "source": [
    "using Pkg\n",
    "Pkg.activate(\"../p2\")\n",
    "Pkg.instantiate()"
   ]
  },
  {
   "cell_type": "code",
   "execution_count": null,
   "metadata": {},
   "outputs": [],
   "source": [
    "using DelimitedFiles\n",
    "using LinearAlgebra\n",
    "using Plots\n",
    "using LaTeXStrings\n",
    "using Printf\n",
    "\n",
    "for name = (\"dist\", \"exactdist\")\n",
    "    (R, num_vert_) = readdlm(\"./kn57Nodes1to57_\" * name * \".txt\", Float64, header=true)\n",
    "    num_vert = parse(Float64, num_vert_[1])\n",
    "    # S = zeros(size(R))\n",
    "    # rho = 0;\n",
    "    # for i = 1:57, j = 1:57\n",
    "    #     global S, R, rho\n",
    "    #     S[i, j] = R[i, j]^2\n",
    "    #     rho += S[i, j]\n",
    "    # end\n",
    "    S = R .^ 2\n",
    "    # rho = norm(S, 1)\n",
    "    # rho \\= (2 * num_vert)\n",
    "    \n",
    "    one_col = ones(57,1)\n",
    "    rho = 1/(2num_vert)*one_col'*S*one_col\n",
    "    rho = rho[1]\n",
    "\n",
    "    v = ((S - rho * I(57)) * one_col )/ num_vert\n",
    "    function getGram(n::Real, S::Matrix, rho::Real)::Matrix\n",
    "        r = 1 / 2n * (S - rho * I) * one_col * one_col' + 1 / 2n * one_col * one_col' * (S - rho * I) - 1 / 2 * S\n",
    "        @assert issymmetric(r)\n",
    "        return r\n",
    "    end\n",
    "    G = getGram(num_vert, S, rho)\n",
    "    ev, Q = eigen(G, sortby=x -> -x)\n",
    "    index = findfirst(x -> x < 0, ev)\n",
    "    ev[index-1:end] .= 0\n",
    "    display(scatter(ev, labels = nothing, title=\"Eigenvalues for  G for $(name)\", xaxis=L\"Edges\", yaxis=L\"Value\"))\n",
    "    print(\"The 10 largest eigenvalues are $(first(ev, 10))\")\n",
    "    Λ = Diagonal(ev)\n",
    "    lambda = Λ\n",
    "    Q[:, 1:2]\n",
    "\n",
    "    Y::Dict{Int,Matrix} = Dict([])\n",
    "    R_hat::Dict{Int,Matrix} = Dict([])\n",
    "    R_norm::Dict{Int,Real} = Dict([])\n",
    "    ϵ::Dict{Int,Real} = Dict([])\n",
    "    σ::Dict{Int,Real} = Dict([])\n",
    "\n",
    "    println(\"For data \" * name)\n",
    "    for d = (2, 3)\n",
    "        println(\"d = $(d)\")\n",
    "        Q_1 = Q[:, 1:d]\n",
    "        Λ_1 = Λ[1:d, 1:d]\n",
    "        Y[d] = Λ_1^1 / 2 * Q_1'\n",
    "        R_hat[d] = zeros(57, 57)\n",
    "        for i = 1:57, j = 1:57\n",
    "            R_hat[d][i, j] = norm(Y[d][1:d, j] - Y[d][1:d, i])\n",
    "        end\n",
    "        R_norm[d] = norm(R - R_hat[d])\n",
    "        println(\"Norm = $(R_norm[d])\")\n",
    "        ϵ[d] = norm(G - Y[d]'Y[d])\n",
    "        println(\"ϵ = $(ϵ[d])\")\n",
    "        σ[d] = sqrt(sum(ev[d+1:end] .^ 2))\n",
    "        println(\"σ = $(σ[d])\")\n",
    "        println(\"Difference = $(ϵ[d] - σ[d])\")\n",
    "    end\n",
    "    function minmax(v::Vector{<:Real})\n",
    "        r1 = [minimum(v), minimum(v)+(maximum(v)-minimum(v))/2, maximum(v)] \n",
    "        r2 = [ @sprintf(\"%.1f\",x) for x in r1 ]\n",
    "        return (r1, r2)\n",
    "    end\n",
    "    \n",
    "    display(scatter(Y[2][1, :], Y[2][2, :], labels=nothing,title=\"Two dimensional Embedding for \" * name,xticks = minmax(Y[2][1,:]),\n",
    "    yticks = minmax(Y[2][2,:]), xaxis = L\"x_{1}\", yaxis=L\"x_{2}\"))\n",
    "    display(scatter3d(Y[3][1, :], Y[3][2, :], Y[3][3, :], title=\"Three dimensional Embedding for \" * name, xticks = minmax(Y[3][1,:]),\n",
    "    yticks = minmax(Y[3][2,:]), zticks = minmax(Y[3][3,:]), labels=nothing, xaxis=L\"x_{1}\",\n",
    "    yaxis=L\"x_{2}\", zaxis=L\"x_{3}\"))\n",
    "    # scatter3d(Y[3][1,:], Y[3][2,:], Y[3][3,:], camera=[0,0,0])\n",
    "end"
   ]
  },
  {
   "cell_type": "code",
   "execution_count": 18,
   "metadata": {},
   "outputs": [],
   "source": []
  }
 ],
 "metadata": {
  "kernelspec": {
   "display_name": "Julia 1.8.5",
   "language": "julia",
   "name": "julia-1.8"
  },
  "language_info": {
   "file_extension": ".jl",
   "mimetype": "application/julia",
   "name": "julia",
   "version": "1.8.5"
  },
  "orig_nbformat": 4
 },
 "nbformat": 4,
 "nbformat_minor": 2
}
